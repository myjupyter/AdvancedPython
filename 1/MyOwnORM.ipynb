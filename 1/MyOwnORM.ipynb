{
 "cells": [
  {
   "cell_type": "code",
   "execution_count": 3,
   "metadata": {},
   "outputs": [],
   "source": [
    "import inspect\n",
    "\n",
    "class Validator:\n",
    "    \n",
    "    _min_val = 0\n",
    "    _max_val = 0 \n",
    "    \n",
    "    def __init__(self, min_val=0, max_val=0):\n",
    "        _min_val = min_val\n",
    "        _max_val = max_val\n",
    "        \n",
    "    @classmethod\n",
    "    def validateMax(cls, value):\n",
    "        if isinstance(value, int):\n",
    "            return value if value <= cls._max_val else cls._max_val\n",
    "        return cls._max_val\n",
    "    \n",
    "    @classmethod\n",
    "    def validateMin(cls, value):\n",
    "        if isinstance(value, int):\n",
    "            return value if value >= cls._min_value else cls._min_val\n",
    "        return cls._min_val\n",
    "        \n",
    "    \n",
    "    \n",
    "class IntValidator(Validator):\n",
    "    \n",
    "    _min_val = -2**31\n",
    "    _max_val = 2**31 - 1\n",
    "    \n",
    "    def __init__(self, min_val=-2**31, max_val=2**31 - 1):\n",
    "        super().__init__(min_val, max_val)\n",
    "    \n",
    "    \n",
    "class CharValidator(Validator):\n",
    "    \n",
    "    _min_val = 1\n",
    "    _max_val = 8000 \n",
    "    \n",
    "    def __init__(self, min_val=1, max_val=8000):\n",
    "        super().__init__(min_val, max_val)\n",
    "    \n",
    "        \n",
    "class FloatValidator(Validator):\n",
    "    \n",
    "    _min_val = -1.79e+308  \n",
    "    _max_val = 1.79e+308\n",
    "    \n",
    "    def __init__(self, min_val=-1.79e+308, max_val=1.79e+308):\n",
    "        super()._init_(min_val, max_val)\n",
    "        \n",
    "        \n",
    "class Field:\n",
    "    \n",
    "    def __init__(self, name='', cls=None, required=True, default=None):\n",
    "        self.name = '_' + name\n",
    "        self.cls = cls\n",
    "        self.required = required\n",
    "        self.default = self.validate(default)\n",
    "        \n",
    "    def __get__(self, instance, owner=None):\n",
    "        if owner is None:\n",
    "            return AttributeError('This field must be defined in a class!')\n",
    "        return getattr(instance, self.name, self.default)\n",
    "    \n",
    "    def __set__(self, instance, value):\n",
    "        instance.__dict__[self.name] = value\n",
    "    \n",
    "    def __delete__(self, instance):\n",
    "        if instance is None:\n",
    "            raise AttributeError()\n",
    "        del instance.__dict__[self.name]\n",
    "        \n",
    "    def validate(self, value):\n",
    "        if value is None and not self.required:\n",
    "            return None\n",
    "        return self.cls(value)\n",
    "    \n",
    "    def cls_validate(self, value):\n",
    "        if not isinstance(value, self.cls):\n",
    "            raise AttributeError('The value have to be {0}'.format(self.cls))\n",
    "        return \n",
    "\n",
    "        \n",
    "class IntField(Field):\n",
    "    \n",
    "    def __init__(self, name='', min_value=None, max_value=None, **kwarg):\n",
    "        self.min_value = IntValidator.validateMin(min_value)\n",
    "        self.max_value = IntValidator.validateMax(max_value)\n",
    "        super().__init__(name, int, **kwarg)\n",
    "        \n",
    "        \n",
    "    def __get__(self, instance, owner=None):\n",
    "        return super().__get__(instance, owner)\n",
    "        \n",
    "    def __set__(self, instance, value):\n",
    "        super().cls_validate(value)\n",
    "       \n",
    "        if self.min_value > value or self.max_value < value:\n",
    "            raise AttributeError(\n",
    "                'Value have to lay between {0} and {1}'.format(\n",
    "                    self.min_value,\n",
    "                    self.max_value\n",
    "                )\n",
    "            )\n",
    "        super().__set__(instance, value)\n",
    "\n",
    "    def __delete__(self, instance):\n",
    "        super().__delete__(instance)\n",
    "        \n",
    "        \n",
    "class CharField(Field):\n",
    "    \n",
    "    def __init__(self, name='', max_length=None, min_length=None, **kwarg):\n",
    "        self.min_length = CharValidator.validateMin(min_length)\n",
    "        self.max_length = CharValidator.validateMax(max_length)\n",
    "        super().__init__(name, str, **kwarg)\n",
    "        \n",
    "    def __get__(self, instance, owner=None):\n",
    "        return super().__get__(instance, owner)\n",
    "    \n",
    "    def __set__(self, instance, value):\n",
    "        super().cls_validate(value)\n",
    "        \n",
    "        if self.min_length > value or self.max_length < value:\n",
    "            raise AttributeError(\n",
    "                'Value have to lay between {0} and {1}'.format(\n",
    "                    self.min_length,\n",
    "                    self.max_lenght\n",
    "                )\n",
    "            )\n",
    "        super().__set__(instance, value)\n",
    "        \n",
    "    def __delete__(self, instance):\n",
    "        super().__delete__(instance)\n",
    "        \n",
    "        \n",
    "class BoolField(Field):\n",
    "    \n",
    "    def __init__(self, name='', **kwarg):\n",
    "        super().__init__(name, bool, **kwarg)\n",
    "        \n",
    "    def __get__(self, instance, owner=None):\n",
    "        return super().__get__(instance, owner)\n",
    "    \n",
    "    def __set__(self, instance, value):\n",
    "        super().cls_validate(value)\n",
    "        super().__set__(instance, value)\n",
    "        \n",
    "    def __delete__(self, instance):\n",
    "        super().__delete__(instance)\n",
    "        \n",
    "        \n",
    "class FloatField(Field):\n",
    "    \n",
    "    def __init__(self, name='', min_val=None, max_val=None, **kwarg):\n",
    "        self.min_val = CharValidator.validateMin(min_val)\n",
    "        self.max_val = CharValidator.validateMax(max_val)\n",
    "        super().__init__(name, float, **kwarg)\n",
    "        \n",
    "    def __get__(self, instance, owner=None):\n",
    "        return super().__get__(instance, owner)\n",
    "    \n",
    "    def __set__(self, instance, value):\n",
    "        super().cls_validate(value)\n",
    "        super().__set__(instance, value)\n",
    "        \n",
    "    def __delete__(self, instance):\n",
    "        super().__delete__(instance)\n",
    "        \n",
    "        \n",
    "class AutoField(IntField):\n",
    "    # создаем словарь из названий класов и количества экземпляров автофилда\n",
    "    # пропишем автоинкрементацию в классе модели\n",
    "    _count_dict = {}\n",
    "    \n",
    "    def __init__(self, name='', **kwarg):\n",
    "        kwarg['required'] = True\n",
    "        \n",
    "        if kwarg.get('default', None) is not None:\n",
    "            raise AttributeError(\n",
    "                'AutoField does not contain default value!'\n",
    "            )\n",
    "        super().__init__(name, min_val=0, max_val=2**31-1, **kwarg)\n",
    "        \n",
    "    def __get__(self, instance, owner=None):\n",
    "        return super().__get__(instance, owner)\n",
    "    \n",
    "    def __set__(self, instance, value):\n",
    "        super().__set__(instance, value)\n",
    "    \n",
    "    def __delete__(self, instance):\n",
    "        super().__delete__(instance)\n",
    "        \n",
    "    def _set_number(self, field_name=None):\n",
    "        if field_name is None:\n",
    "            raise AttributeError(\n",
    "                '{0} model has no AutoField'.format(field_name)\n",
    "            )"
   ]
  },
  {
   "cell_type": "code",
   "execution_count": 4,
   "metadata": {},
   "outputs": [],
   "source": [
    "class MetaModel(type):\n",
    "    \n",
    "    def __new__(mcs, name, bases, namespace):\n",
    "        super_new = super().__new__\n",
    "        \n",
    "        # To choose only bases class constructed by MetaModel\n",
    "        parents = tuple([b for b in bases if isinstance(b, MetaModel)])\n",
    "        if not parents:\n",
    "            return super_new(mcs, name, bases, namespace)\n",
    "        \n",
    "        new_namespace = dict()\n",
    "        module = namespace.pop('__module__', None)\n",
    "        if module is not None:\n",
    "            new_namespace['__module__'] = module\n",
    "            \n",
    "        classcell = namespace.pop('__classcell__', None)\n",
    "        if classcell is not None:\n",
    "            new_namespace['__classcell__'] = classcell\n",
    "\n",
    "        new_class = super_new(mcs, name, parents, new_namespace)\n",
    "        \n",
    "        fields = {name: value for name, value in namespace.items() if isinstance(value, Field)}\n",
    "        methods = {name: value for name, value in namespace.items() if inspect.isfunction(value)}\n",
    "        fields_name = set(fields.keys())\n",
    "        \n",
    "        meta = namespace.pop('Meta', None)\n",
    "        if meta is not None:\n",
    "            if not hasattr(meta, 'table_name'):\n",
    "                setattr(meta, 'table_name', name)\n",
    "            # There shoulde change conditions\n",
    "            if not hasattr(meta, 'fields'):\n",
    "                setattr(meta, 'fields', fields_name)\n",
    "        else:\n",
    "            meta = type('Meta', tuple(), {'table_name' : name, 'fields' : fields_name})\n",
    "        \n",
    "        # To inherite the fields by MRO\n",
    "        inherited_namespace = dict()\n",
    "        for base_cls in new_class.mro():\n",
    "            for field_name, value in base_cls.__dict__.items():                 \n",
    "                if isinstance(value, Field) or inspect.isfunction(value):\n",
    "                    inherited_namespace.update({field_name: value})\n",
    "        \n",
    "        meta.fields.update(set(inherited_namespace.keys()))\n",
    "        fields.update(inherited_namespace)\n",
    "        fields.update(methods)\n",
    "        \n",
    "        # To add meta-data\n",
    "        setattr(new_class, 'Meta', meta)\n",
    "        \n",
    "        # To set fields from base classes\n",
    "        for attr_name, attr_value in fields.items():\n",
    "            setattr(new_class, attr_name, attr_value)\n",
    "\n",
    "        return new_class\n",
    "            "
   ]
  },
  {
   "cell_type": "code",
   "execution_count": 12,
   "metadata": {},
   "outputs": [
    {
     "data": {
      "text/plain": [
       "mappingproxy({'table_name': 'A',\n",
       "              'fields': set(),\n",
       "              '__module__': '__main__',\n",
       "              '__dict__': <attribute '__dict__' of 'Meta' objects>,\n",
       "              '__weakref__': <attribute '__weakref__' of 'Meta' objects>,\n",
       "              '__doc__': None})"
      ]
     },
     "execution_count": 12,
     "metadata": {},
     "output_type": "execute_result"
    }
   ],
   "source": [
    "class Model(metaclass=MetaModel):\n",
    "    pass\n",
    "\n",
    "class User(Model):\n",
    "    Id = IntField('Id', required=True, default=2)\n",
    "    Name = CharField('Name', required=True)\n",
    "    sex = BoolField('sex', required=True, default=True)\n",
    "    Money  = FloatField('Money', required=False, default=0.0)\n",
    "    \n",
    "    def update_money(self, value):\n",
    "        self.Money = value\n",
    "    \n",
    "a = User()\n",
    "a.Id=3\n",
    "\n",
    "class Manager(User):\n",
    "    Post = IntField('Post', required=True, default = 0)\n",
    "    \n",
    "    \n",
    "class A(Model):\n",
    "    pass"
   ]
  },
  {
   "cell_type": "code",
   "execution_count": 135,
   "metadata": {},
   "outputs": [],
   "source": [
    "class A():\n",
    "    a = 0\n",
    "    b = \"\"\n",
    "    c = True\n",
    "    \n",
    "    def __init__(self, a, b, c):\n",
    "        print(\"Called fron {}\".format(self))\n",
    "        self.a = a\n",
    "        self.b = b\n",
    "        self.c = c\n",
    "        \n",
    "    def update_a(self, a):\n",
    "        print(\"Called fron {}\".format(self))\n",
    "        self.a = a\n",
    "    \n",
    "    def update_b(self, b):\n",
    "        print(\"Called fron {}\".format(self))\n",
    "        self.b = b\n",
    "        \n",
    "    def update_c(self, c):\n",
    "        print(\"Called fron {}\".format(self))\n",
    "        self.c = c\n",
    "        \n",
    "class MetaClass(type):\n",
    "    def __new__(mcs, name, bases, attr):\n",
    "        meta = attr.get('Meta')\n",
    "        print(attr)\n",
    "        if meta is not None:\n",
    "            print(meta)\n",
    "            print(hasattr(attr['Meta'], 'table_name'))\n",
    "        return super().__new__(mcs, name, bases, attr)\n",
    "        \n",
    "class B(A):\n",
    "    \n",
    "    class Meta:\n",
    "        table_name = 'B'\n",
    "        fields = ('d')\n",
    "        \n",
    "    a = 'a'\n",
    "    \n",
    "    def __init__(self, a, b, c, d):\n",
    "        print(\"Called fron {}\".format(self))\n",
    "        self.a = d\n",
    "        super().__init__(a, b, c)\n",
    "        \n",
    "    def lel(self):\n",
    "        return 1\n",
    "        \n",
    "        "
   ]
  },
  {
   "cell_type": "code",
   "execution_count": 136,
   "metadata": {},
   "outputs": [
    {
     "name": "stdout",
     "output_type": "stream",
     "text": [
      "Called fron <__main__.B object at 0x7fdf9a1c3208>\n",
      "Called fron <__main__.B object at 0x7fdf9a1c3208>\n"
     ]
    },
    {
     "data": {
      "text/plain": [
       "True"
      ]
     },
     "execution_count": 136,
     "metadata": {},
     "output_type": "execute_result"
    }
   ],
   "source": [
    "b = B(1,2,3,4)\n",
    "inspect.isfunction(b.__class__.__dict__['lel'])"
   ]
  },
  {
   "cell_type": "code",
   "execution_count": 82,
   "metadata": {},
   "outputs": [
    {
     "name": "stdout",
     "output_type": "stream",
     "text": [
      "Called fron <__main__.B object at 0x7ff93c273588>\n",
      "Called fron <__main__.B object at 0x7ff93c273588>\n"
     ]
    },
    {
     "data": {
      "text/plain": [
       "'B'"
      ]
     },
     "execution_count": 82,
     "metadata": {},
     "output_type": "execute_result"
    }
   ],
   "source": [
    "B(1,2,3,4).__class__.__dict__['Meta'].__dict__['table_name']"
   ]
  },
  {
   "cell_type": "code",
   "execution_count": 88,
   "metadata": {},
   "outputs": [
    {
     "data": {
      "text/plain": [
       "{'a', 'b'}"
      ]
     },
     "execution_count": 88,
     "metadata": {},
     "output_type": "execute_result"
    }
   ],
   "source": [
    "a= {'a': 1, 'b' : 2}\n",
    "set(a.keys())"
   ]
  },
  {
   "cell_type": "code",
   "execution_count": 86,
   "metadata": {},
   "outputs": [
    {
     "name": "stdout",
     "output_type": "stream",
     "text": [
      "Called fron <__main__.B object at 0x7ff93c2210b8>\n",
      "Called fron <__main__.B object at 0x7ff93c2210b8>\n"
     ]
    },
    {
     "data": {
      "text/plain": [
       "True"
      ]
     },
     "execution_count": 86,
     "metadata": {},
     "output_type": "execute_result"
    }
   ],
   "source": [
    "a = B(1,2,3,4)\n",
    "isinstance(B.mro()[0], MetaClass)"
   ]
  },
  {
   "cell_type": "code",
   "execution_count": 136,
   "metadata": {},
   "outputs": [
    {
     "data": {
      "text/plain": [
       "-2.23e-308"
      ]
     },
     "execution_count": 136,
     "metadata": {},
     "output_type": "execute_result"
    }
   ],
   "source": [
    "-2.23e-308\n",
    "        "
   ]
  },
  {
   "cell_type": "code",
   "execution_count": 15,
   "metadata": {},
   "outputs": [
    {
     "name": "stdout",
     "output_type": "stream",
     "text": [
      "2.7.15 |Anaconda, Inc.| (default, Dec 14 2018, 19:04:19) \n",
      "[GCC 7.3.0]\n"
     ]
    }
   ],
   "source": [
    "import sys\n",
    "print(sys.version)"
   ]
  },
  {
   "cell_type": "code",
   "execution_count": 14,
   "metadata": {},
   "outputs": [
    {
     "data": {
      "text/plain": [
       "['__add__',\n",
       " '__class__',\n",
       " '__contains__',\n",
       " '__delattr__',\n",
       " '__delitem__',\n",
       " '__dir__',\n",
       " '__doc__',\n",
       " '__eq__',\n",
       " '__format__',\n",
       " '__ge__',\n",
       " '__getattribute__',\n",
       " '__getitem__',\n",
       " '__gt__',\n",
       " '__hash__',\n",
       " '__iadd__',\n",
       " '__imul__',\n",
       " '__init__',\n",
       " '__init_subclass__',\n",
       " '__iter__',\n",
       " '__le__',\n",
       " '__len__',\n",
       " '__lt__',\n",
       " '__mul__',\n",
       " '__ne__',\n",
       " '__new__',\n",
       " '__reduce__',\n",
       " '__reduce_ex__',\n",
       " '__repr__',\n",
       " '__reversed__',\n",
       " '__rmul__',\n",
       " '__setattr__',\n",
       " '__setitem__',\n",
       " '__sizeof__',\n",
       " '__str__',\n",
       " '__subclasshook__',\n",
       " 'append',\n",
       " 'clear',\n",
       " 'copy',\n",
       " 'count',\n",
       " 'extend',\n",
       " 'index',\n",
       " 'insert',\n",
       " 'pop',\n",
       " 'remove',\n",
       " 'reverse',\n",
       " 'sort']"
      ]
     },
     "execution_count": 14,
     "metadata": {},
     "output_type": "execute_result"
    }
   ],
   "source": [
    "class A:\n",
    "    pass\n",
    "        \n",
    "a = [A(), A(), A()]\n",
    "dir(a.__class__)"
   ]
  },
  {
   "cell_type": "code",
   "execution_count": null,
   "metadata": {},
   "outputs": [],
   "source": []
  }
 ],
 "metadata": {
  "kernelspec": {
   "display_name": "Python 3",
   "language": "python",
   "name": "python3"
  },
  "language_info": {
   "codemirror_mode": {
    "name": "ipython",
    "version": 3
   },
   "file_extension": ".py",
   "mimetype": "text/x-python",
   "name": "python",
   "nbconvert_exporter": "python",
   "pygments_lexer": "ipython3",
   "version": "3.7.2"
  }
 },
 "nbformat": 4,
 "nbformat_minor": 2
}
