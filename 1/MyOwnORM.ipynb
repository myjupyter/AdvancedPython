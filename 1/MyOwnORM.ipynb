{
 "cells": [
  {
   "cell_type": "code",
   "execution_count": 339,
   "metadata": {},
   "outputs": [],
   "source": [
    "class Field:\n",
    "    \n",
    "    def __init__(self, name='', cls=None, required=True, default=None):\n",
    "        self.name = '_' + name\n",
    "        self.cls = cls\n",
    "        self.required = True\n",
    "        self.default = self.validate(default)\n",
    "        \n",
    "    def __get__(self, instance, owner=None):\n",
    "        if owner is None:\n",
    "            return AttributeError('This field must be defined in a class!')\n",
    "        return getattr(instance, self.name, self.default)\n",
    "    \n",
    "    def __set__(self, instance, value):\n",
    "        if not isinstance(value, self.cls):\n",
    "            raise AttributeError('The value have to be {0}'.format(self.cls))\n",
    "        instance.__dict__[self.name] = value\n",
    "    \n",
    "    def __delete__(self, instance):\n",
    "        if instance is None:\n",
    "            raise AttributeError()\n",
    "        del instance.__dict__[self.name]\n",
    "        \n",
    "    def validate(self, value):\n",
    "        if value is None and not self.required:\n",
    "            return None\n",
    "        return self.cls(value)\n",
    "\n",
    "        \n",
    "class IntField(Field):\n",
    "    \n",
    "    def __init__(self, name='', **kwarg):\n",
    "        super().__init__(name, int, **kwarg)\n",
    "        \n",
    "    def __get__(self, instance, owner=None):\n",
    "        return super().__get__(instance, owner)\n",
    "        \n",
    "    def __set__(self, instance, value):\n",
    "        super().__set__(instance, value)\n",
    "\n",
    "    def __delete__(self, instance):\n",
    "        super().__delete__(instance)\n",
    "        \n",
    "        \n",
    "class CharField(Field):\n",
    "    \n",
    "    def __init__(self, name='', **kwarg):\n",
    "        super().__init__(name, str, **kwarg)\n",
    "        \n",
    "    def __get__(self, instance, owner=None):\n",
    "        return super().__get__(instance, owner)\n",
    "    \n",
    "    def __set__(self, instance, value):\n",
    "        super().__set__(instance, value)\n",
    "        \n",
    "    def __delete__(self, instance):\n",
    "        super().__delete__(instance)\n",
    "        \n",
    "        \n",
    "class BoolField(Field):\n",
    "    \n",
    "    def __init__(self, name='', **kwarg):\n",
    "        super().__init__(name, bool, **kwarg)\n",
    "        \n",
    "    def __get__(self, instance, owner=None):\n",
    "        return super().__get__(instance, owner)\n",
    "    \n",
    "    def __set__(self, instance, value):\n",
    "        super().__set__(instance, value)\n",
    "        \n",
    "    def __delete__(self, instance):\n",
    "        super().__delete__(instance)\n",
    "        \n",
    "        \n",
    "class FloatField(Field):\n",
    "    \n",
    "    def __init__(self, name='', **kwarg):\n",
    "        super().__init__(name, float, **kwarg)\n",
    "        \n",
    "    def __get__(self, instance, owner=None):\n",
    "        return super().__get__(instance, owner)\n",
    "    \n",
    "    def __set__(self, instance, value):\n",
    "        super().__set__(instance, value)\n",
    "        \n",
    "    def __delete__(self, instance):\n",
    "        super().__delete__(instance)"
   ]
  },
  {
   "cell_type": "code",
   "execution_count": 343,
   "metadata": {},
   "outputs": [],
   "source": [
    "class User:\n",
    "    Id = IntField('Id', required=True, default=2)\n",
    "    Name = CharField('Name', required=True)\n",
    "    sex = BoolField('sex', required=True, default=True)\n",
    "\n",
    "    \n",
    "a = User()"
   ]
  },
  {
   "cell_type": "code",
   "execution_count": 344,
   "metadata": {},
   "outputs": [
    {
     "data": {
      "text/plain": [
       "2"
      ]
     },
     "execution_count": 344,
     "metadata": {},
     "output_type": "execute_result"
    }
   ],
   "source": [
    "a.Id"
   ]
  },
  {
   "cell_type": "code",
   "execution_count": 346,
   "metadata": {},
   "outputs": [
    {
     "ename": "AttributeError",
     "evalue": "The value have to be <class 'bool'>",
     "output_type": "error",
     "traceback": [
      "\u001b[0;31m---------------------------------------------------------------------------\u001b[0m",
      "\u001b[0;31mAttributeError\u001b[0m                            Traceback (most recent call last)",
      "\u001b[0;32m<ipython-input-346-7b1dfa8ed74c>\u001b[0m in \u001b[0;36m<module>\u001b[0;34m\u001b[0m\n\u001b[0;32m----> 1\u001b[0;31m \u001b[0ma\u001b[0m\u001b[0;34m.\u001b[0m\u001b[0msex\u001b[0m \u001b[0;34m=\u001b[0m \u001b[0;36m5\u001b[0m\u001b[0;34m\u001b[0m\u001b[0;34m\u001b[0m\u001b[0m\n\u001b[0m",
      "\u001b[0;32m<ipython-input-339-50883179045d>\u001b[0m in \u001b[0;36m__set__\u001b[0;34m(self, instance, value)\u001b[0m\n\u001b[1;32m     67\u001b[0m \u001b[0;34m\u001b[0m\u001b[0m\n\u001b[1;32m     68\u001b[0m     \u001b[0;32mdef\u001b[0m \u001b[0m__set__\u001b[0m\u001b[0;34m(\u001b[0m\u001b[0mself\u001b[0m\u001b[0;34m,\u001b[0m \u001b[0minstance\u001b[0m\u001b[0;34m,\u001b[0m \u001b[0mvalue\u001b[0m\u001b[0;34m)\u001b[0m\u001b[0;34m:\u001b[0m\u001b[0;34m\u001b[0m\u001b[0;34m\u001b[0m\u001b[0m\n\u001b[0;32m---> 69\u001b[0;31m         \u001b[0msuper\u001b[0m\u001b[0;34m(\u001b[0m\u001b[0;34m)\u001b[0m\u001b[0;34m.\u001b[0m\u001b[0m__set__\u001b[0m\u001b[0;34m(\u001b[0m\u001b[0minstance\u001b[0m\u001b[0;34m,\u001b[0m \u001b[0mvalue\u001b[0m\u001b[0;34m)\u001b[0m\u001b[0;34m\u001b[0m\u001b[0;34m\u001b[0m\u001b[0m\n\u001b[0m\u001b[1;32m     70\u001b[0m \u001b[0;34m\u001b[0m\u001b[0m\n\u001b[1;32m     71\u001b[0m     \u001b[0;32mdef\u001b[0m \u001b[0m__delete__\u001b[0m\u001b[0;34m(\u001b[0m\u001b[0mself\u001b[0m\u001b[0;34m,\u001b[0m \u001b[0minstance\u001b[0m\u001b[0;34m)\u001b[0m\u001b[0;34m:\u001b[0m\u001b[0;34m\u001b[0m\u001b[0;34m\u001b[0m\u001b[0m\n",
      "\u001b[0;32m<ipython-input-339-50883179045d>\u001b[0m in \u001b[0;36m__set__\u001b[0;34m(self, instance, value)\u001b[0m\n\u001b[1;32m     14\u001b[0m     \u001b[0;32mdef\u001b[0m \u001b[0m__set__\u001b[0m\u001b[0;34m(\u001b[0m\u001b[0mself\u001b[0m\u001b[0;34m,\u001b[0m \u001b[0minstance\u001b[0m\u001b[0;34m,\u001b[0m \u001b[0mvalue\u001b[0m\u001b[0;34m)\u001b[0m\u001b[0;34m:\u001b[0m\u001b[0;34m\u001b[0m\u001b[0;34m\u001b[0m\u001b[0m\n\u001b[1;32m     15\u001b[0m         \u001b[0;32mif\u001b[0m \u001b[0;32mnot\u001b[0m \u001b[0misinstance\u001b[0m\u001b[0;34m(\u001b[0m\u001b[0mvalue\u001b[0m\u001b[0;34m,\u001b[0m \u001b[0mself\u001b[0m\u001b[0;34m.\u001b[0m\u001b[0mcls\u001b[0m\u001b[0;34m)\u001b[0m\u001b[0;34m:\u001b[0m\u001b[0;34m\u001b[0m\u001b[0;34m\u001b[0m\u001b[0m\n\u001b[0;32m---> 16\u001b[0;31m             \u001b[0;32mraise\u001b[0m \u001b[0mAttributeError\u001b[0m\u001b[0;34m(\u001b[0m\u001b[0;34m'The value have to be {0}'\u001b[0m\u001b[0;34m.\u001b[0m\u001b[0mformat\u001b[0m\u001b[0;34m(\u001b[0m\u001b[0mself\u001b[0m\u001b[0;34m.\u001b[0m\u001b[0mcls\u001b[0m\u001b[0;34m)\u001b[0m\u001b[0;34m)\u001b[0m\u001b[0;34m\u001b[0m\u001b[0;34m\u001b[0m\u001b[0m\n\u001b[0m\u001b[1;32m     17\u001b[0m         \u001b[0minstance\u001b[0m\u001b[0;34m.\u001b[0m\u001b[0m__dict__\u001b[0m\u001b[0;34m[\u001b[0m\u001b[0mself\u001b[0m\u001b[0;34m.\u001b[0m\u001b[0mname\u001b[0m\u001b[0;34m]\u001b[0m \u001b[0;34m=\u001b[0m \u001b[0mvalue\u001b[0m\u001b[0;34m\u001b[0m\u001b[0;34m\u001b[0m\u001b[0m\n\u001b[1;32m     18\u001b[0m \u001b[0;34m\u001b[0m\u001b[0m\n",
      "\u001b[0;31mAttributeError\u001b[0m: The value have to be <class 'bool'>"
     ]
    }
   ],
   "source": []
  },
  {
   "cell_type": "code",
   "execution_count": 145,
   "metadata": {},
   "outputs": [
    {
     "name": "stdout",
     "output_type": "stream",
     "text": [
      "price\n",
      "quantity\n"
     ]
    },
    {
     "data": {
      "text/plain": [
       "10"
      ]
     },
     "execution_count": 145,
     "metadata": {},
     "output_type": "execute_result"
    }
   ],
   "source": [
    "class NonNegative:\n",
    "    def __get__(self, instance, owner):\n",
    "        return instance.__dict__[self.name]\n",
    "    def __set__(self, instance, value):\n",
    "        print(self.name)\n",
    "        if value < 0:\n",
    "            raise ValueError('Cannot be negative.')\n",
    "        instance.__dict__[self.name] = value\n",
    "    def __set_name__(self, owner, name):\n",
    "        self.name = name\n",
    "class Order:\n",
    "    price = NonNegative()\n",
    "    quantity = NonNegative()\n",
    "    def __init__(self, name, price, quantity):\n",
    "        self._name = name\n",
    "        self.price = price\n",
    "        self.quantity = quantity\n",
    "    def total(self):\n",
    "        return self.price * self.quantity\n",
    "apple_order = Order('apple', 1, 10)\n",
    "apple_order.total()"
   ]
  },
  {
   "cell_type": "code",
   "execution_count": 74,
   "metadata": {},
   "outputs": [
    {
     "name": "stdout",
     "output_type": "stream",
     "text": [
      "price\n"
     ]
    }
   ],
   "source": [
    "apple_order.price = 5"
   ]
  },
  {
   "cell_type": "code",
   "execution_count": 296,
   "metadata": {},
   "outputs": [
    {
     "name": "stdout",
     "output_type": "stream",
     "text": [
      "sd\n"
     ]
    },
    {
     "data": {
      "text/plain": [
       "42"
      ]
     },
     "execution_count": 296,
     "metadata": {},
     "output_type": "execute_result"
    }
   ],
   "source": [
    "class TypedProperty(object):\n",
    "    def __init__(self,name,type,default=None):\n",
    "        self.name = '_' + name\n",
    "        self.type = type\n",
    "        self.default = default if default else type()\n",
    "        \n",
    "    def __get__(self,instance,cls):\n",
    "        return getattr(instance,self.name,self.default)\n",
    "    \n",
    "    def __set__(self,instance,value):\n",
    "        if not isinstance(value,self.type):\n",
    "            raise TypeError('Значение должно быть типа %s' % self.type)\n",
    "        setattr(instance,self.name,value)\n",
    "    \n",
    "    def __delete__(self,instance):\n",
    "        raise AttributeError('Warnings')\n",
    "\n",
    "class Foo(object):\n",
    "    name = TypedProperty('name',str)\n",
    "    num = TypedProperty('num',int,42)\n",
    "    \n",
    "b = Foo()\n",
    "b.num"
   ]
  },
  {
   "cell_type": "code",
   "execution_count": null,
   "metadata": {},
   "outputs": [],
   "source": []
  }
 ],
 "metadata": {
  "kernelspec": {
   "display_name": "Python 3",
   "language": "python",
   "name": "python3"
  },
  "language_info": {
   "codemirror_mode": {
    "name": "ipython",
    "version": 3
   },
   "file_extension": ".py",
   "mimetype": "text/x-python",
   "name": "python",
   "nbconvert_exporter": "python",
   "pygments_lexer": "ipython3",
   "version": "3.7.2"
  }
 },
 "nbformat": 4,
 "nbformat_minor": 2
}
