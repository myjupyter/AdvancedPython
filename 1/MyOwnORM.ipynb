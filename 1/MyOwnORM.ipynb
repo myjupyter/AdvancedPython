{
 "cells": [
  {
   "cell_type": "code",
   "execution_count": 1,
   "metadata": {},
   "outputs": [],
   "source": [
    "import gc\n",
    "import inspect\n",
    "\n",
    "import MySQLdb as mysql\n",
    "\n",
    "\n",
    "db_name = 'my_orm'\n",
    "# тут мои данные, так что меняй"
   ]
  },
  {
   "cell_type": "code",
   "execution_count": 2,
   "metadata": {},
   "outputs": [],
   "source": [
    "def init_db(host, user, password, db_name):\n",
    "    db = mysql.connect(host=host, user=user,\n",
    "                       password=password)\n",
    "    cursor = db.cursor()\n",
    "    \n",
    "    cursor.execute('CREATE DATABASE IF NOT EXISTS `{0}`'.format(db_name))\n",
    "    \n",
    "    db.close()\n",
    "    gc.collect()"
   ]
  },
  {
   "cell_type": "code",
   "execution_count": 3,
   "metadata": {},
   "outputs": [],
   "source": [
    "# тут мои данные, так что меняй\n",
    "init_db(\n",
    "    'localhost',\n",
    "    'root',\n",
    "    'lumen23291633',\n",
    "    db_name\n",
    ")"
   ]
  },
  {
   "cell_type": "code",
   "execution_count": 4,
   "metadata": {},
   "outputs": [],
   "source": [
    "class Validator:\n",
    "    \n",
    "    _min_val = 0\n",
    "    _max_val = 0 \n",
    "    \n",
    "    def __init__(self, min_val=0, max_val=0):\n",
    "        _min_val = min_val\n",
    "        _max_val = max_val\n",
    "        \n",
    "    @classmethod\n",
    "    def validateMax(cls, value):\n",
    "        if isinstance(value, int):\n",
    "            return value if value <= cls._max_val else cls._max_val\n",
    "        return cls._max_val\n",
    "    \n",
    "    @classmethod\n",
    "    def validateMin(cls, value):\n",
    "        if isinstance(value, int):\n",
    "            return value if value >= cls._min_val else cls._min_val\n",
    "        return cls._min_val\n",
    "        \n",
    "    \n",
    "    \n",
    "class IntValidator(Validator):\n",
    "    \n",
    "    _min_val = -2**31\n",
    "    _max_val = 2**31 - 1\n",
    "    \n",
    "    def __init__(self, min_val=-2**31, max_val=2**31 - 1):\n",
    "        super().__init__(min_val, max_val)\n",
    "    \n",
    "    \n",
    "class CharValidator(Validator):\n",
    "    \n",
    "    _min_val = 1\n",
    "    _max_val = 8000 \n",
    "    \n",
    "    def __init__(self, min_val=1, max_val=8000):\n",
    "        super().__init__(min_val, max_val)\n",
    "    \n",
    "        \n",
    "class FloatValidator(Validator):\n",
    "    \n",
    "    _min_val = -1.79e+308  \n",
    "    _max_val = 1.79e+308\n",
    "    \n",
    "    def __init__(self, min_val=-1.79e+308, max_val=1.79e+308):\n",
    "        super()._init_(min_val, max_val)\n",
    "        \n",
    "        \n",
    "class Field:\n",
    "    \n",
    "    def __init__(self, name='', cls=None, required=True, default=None, primary_key=False):\n",
    "        self.name = '_' + name\n",
    "        self.cls = cls\n",
    "        self.required = required\n",
    "        self.default = self.validate(default)\n",
    "        self.primary_key = primary_key\n",
    "        \n",
    "    def __get__(self, instance, owner=None):\n",
    "        if owner is None:\n",
    "            return AttributeError('This field must be defined in a class!')\n",
    "        return getattr(instance, self.name, self.default)\n",
    "    \n",
    "    def __set__(self, instance, value):\n",
    "        instance.__dict__[self.name] = value\n",
    "    \n",
    "    def __delete__(self, instance):\n",
    "        if instance is None:\n",
    "            raise AttributeError()\n",
    "        del instance.__dict__[self.name]\n",
    "        \n",
    "    def validate(self, value):\n",
    "        if value is None and not self.required:\n",
    "            return None\n",
    "        return self.cls(value)\n",
    "    \n",
    "    def cls_validate(self, value):\n",
    "        if not isinstance(value, self.cls):\n",
    "            raise AttributeError('The value have to be {0}'.format(self.cls))\n",
    "        return \n",
    "    \n",
    "    @property\n",
    "    def is_primary(self):\n",
    "        return self.primary_key\n",
    "\n",
    "    @property\n",
    "    def is_required(self):\n",
    "        return self.required\n",
    "    \n",
    "    @property\n",
    "    def get_defaule(self):\n",
    "        return self.default\n",
    "        \n",
    "class IntField(Field):\n",
    "    \n",
    "    def __init__(self, name='', min_value=None, max_value=None, **kwarg):\n",
    "        self.min_value = IntValidator.validateMin(min_value)\n",
    "        self.max_value = IntValidator.validateMax(max_value)\n",
    "        super().__init__(name, int, **kwarg)\n",
    "        \n",
    "        \n",
    "    def __get__(self, instance, owner=None):\n",
    "        return super().__get__(instance, owner)\n",
    "        \n",
    "    def __set__(self, instance, value):\n",
    "        super().cls_validate(value)\n",
    "       \n",
    "        if self.min_value > value or self.max_value < value:\n",
    "            raise AttributeError(\n",
    "                'Value have to lay between {0} and {1}'.format(\n",
    "                    self.min_value,\n",
    "                    self.max_value\n",
    "                )\n",
    "            )\n",
    "        super().__set__(instance, value)\n",
    "\n",
    "    def __delete__(self, instance):\n",
    "        super().__delete__(instance)\n",
    "        \n",
    "        \n",
    "class CharField(Field):\n",
    "    \n",
    "    def __init__(self, name='', max_length=None, min_length=None, **kwarg):\n",
    "        self.min_length = CharValidator.validateMin(min_length)\n",
    "        self.max_length = CharValidator.validateMax(max_length)\n",
    "        super().__init__(name, str, **kwarg)\n",
    "        \n",
    "    def __get__(self, instance, owner=None):\n",
    "        return super().__get__(instance, owner)\n",
    "    \n",
    "    def __set__(self, instance, value):\n",
    "        super().cls_validate(value)\n",
    "        \n",
    "        if self.min_length > len(value) or self.max_length < len(value):\n",
    "            raise AttributeError(\n",
    "                'Value have to lay between {0} and {1}'.format(\n",
    "                    self.min_length,\n",
    "                    self.max_lenght\n",
    "                )\n",
    "            )\n",
    "        super().__set__(instance, value)\n",
    "        \n",
    "    def __delete__(self, instance):\n",
    "        super().__delete__(instance)\n",
    "        \n",
    "        \n",
    "class BoolField(Field):\n",
    "    \n",
    "    def __init__(self, name='', **kwarg):\n",
    "        super().__init__(name, bool, **kwarg)\n",
    "        \n",
    "    def __get__(self, instance, owner=None):\n",
    "        return super().__get__(instance, owner)\n",
    "    \n",
    "    def __set__(self, instance, value):\n",
    "        super().cls_validate(value)\n",
    "        super().__set__(instance, value)\n",
    "        \n",
    "    def __delete__(self, instance):\n",
    "        super().__delete__(instance)\n",
    "        \n",
    "        \n",
    "class FloatField(Field):\n",
    "    \n",
    "    def __init__(self, name='', min_val=None, max_val=None, **kwarg):\n",
    "        self.min_val = CharValidator.validateMin(min_val)\n",
    "        self.max_val = CharValidator.validateMax(max_val)\n",
    "        super().__init__(name, float, **kwarg)\n",
    "        \n",
    "    def __get__(self, instance, owner=None):\n",
    "        return super().__get__(instance, owner)\n",
    "    \n",
    "    def __set__(self, instance, value):\n",
    "        super().cls_validate(value)\n",
    "        super().__set__(instance, value)\n",
    "        \n",
    "    def __delete__(self, instance):\n",
    "        super().__delete__(instance)\n",
    "        \n",
    "        \n",
    "class AutoField(IntField):\n",
    "    \n",
    "    def __init__(self, name='', **kwarg):\n",
    "        kwarg['required'] = False\n",
    "        if kwarg.get('default', None) is not None:\n",
    "            raise AttributeError(\n",
    "                'AutoField does not contain default value!'\n",
    "            )\n",
    "        super().__init__(name, min_value=0, max_value=2**31-1, **kwarg)\n",
    "        \n",
    "    def __get__(self, instance, owner=None):\n",
    "        return super().__get__(instance, owner)\n",
    "    \n",
    "    def __set__(self, instance, value):\n",
    "        super().cls_validate(value)\n",
    "        super().__set__(instance, value)\n",
    "    \n",
    "    def __delete__(self, instance):\n",
    "        super().__delete__(instance)"
   ]
  },
  {
   "cell_type": "code",
   "execution_count": 5,
   "metadata": {},
   "outputs": [],
   "source": [
    "class MetaManager(type):\n",
    "    \n",
    "    def __new__(mcs, name, bases, namespace):\n",
    "        return super().__new__(mcs, name, bases, namespace)\n",
    "    \n",
    "class Manager(metaclass=MetaManager):\n",
    "    \n",
    "    def __get__(self, instance, owner=None):\n",
    "        return QuerySet(owner)\n",
    "    \n",
    "    def __delete__(self, instance):\n",
    "        super().__delete__(instance)\n",
    "        "
   ]
  },
  {
   "cell_type": "code",
   "execution_count": 6,
   "metadata": {},
   "outputs": [],
   "source": [
    "class QuerySet:\n",
    "    \n",
    "    _query_set = list()\n",
    "    \n",
    "    def __init__(self, owner=None):\n",
    "        if owner is None:\n",
    "            raise AttributeError(\n",
    "                'Owner is None'\n",
    "            )\n",
    "        self.cls = owner\n",
    "    \n",
    "    def create(self, **kwarg):\n",
    "        return self.cls(**kwarg)\n",
    "        \n",
    "    def all(self):\n",
    "        pass\n",
    "    \n",
    "    def get(self, **kwarg):\n",
    "        pass\n",
    "        "
   ]
  },
  {
   "cell_type": "code",
   "execution_count": 10,
   "metadata": {},
   "outputs": [],
   "source": [
    "class MetaModel(type):\n",
    "    \n",
    "    def __new__(mcs, name, bases, namespace):\n",
    "        super_new = super().__new__\n",
    "        \n",
    "        # To choose only bases class constructed by MetaModel\n",
    "        parents = tuple([b for b in bases if isinstance(b, MetaModel)])\n",
    "        if not parents:\n",
    "            return super_new(mcs, name, bases, namespace)\n",
    "        \n",
    "        new_namespace = dict()\n",
    "        module = namespace.pop('__module__', None)\n",
    "        if module is not None:\n",
    "            new_namespace['__module__'] = module\n",
    "            \n",
    "        classcell = namespace.pop('__classcell__', None)\n",
    "        if classcell is not None:\n",
    "            new_namespace['__classcell__'] = classcell\n",
    "\n",
    "        new_class = super_new(mcs, name, parents, new_namespace)\n",
    "        \n",
    "        fields = {name: value for name, value in namespace.items() if isinstance(value, Field)}\n",
    "        methods = {name: value for name, value in namespace.items() if inspect.isfunction(value)}\n",
    "        \n",
    "        fields_name = set(fields.keys())\n",
    "        \n",
    "        meta = namespace.pop('Meta', None)\n",
    "        if meta is not None:\n",
    "            if not hasattr(meta, 'table_name'):\n",
    "                setattr(meta, 'table_name', name)\n",
    "            # There shoulde change conditions\n",
    "            if not hasattr(meta, 'fields'):\n",
    "                setattr(meta, 'fields', fields_name)\n",
    "        else:\n",
    "            meta = type('Meta', tuple(), {'table_name' : name, 'fields' : fields_name})\n",
    "        \n",
    "        # To inherite the fields by MRO\n",
    "        for base_cls in new_class.mro():\n",
    "            for field_name, value in base_cls.__dict__.items():  \n",
    "                if isinstance(value, Field):\n",
    "                    fields.update({field_name: value})\n",
    "                    continue\n",
    "                if inspect.isfunction(value):\n",
    "                    methods.update({field_name: value})\n",
    "        \n",
    "        \n",
    "        fields = mcs._check_primary(fields)\n",
    "        meta.fields.update(set(fields.keys()))\n",
    "        \n",
    "        fields.update(methods)\n",
    "        fields.update(mcs._set_manager(namespace))\n",
    "\n",
    "        \n",
    "        # To add meta-data\n",
    "        setattr(new_class, 'Meta', meta)\n",
    "        \n",
    "        # To set fields from base classes\n",
    "        for attr_name, attr_value in fields.items():\n",
    "            setattr(new_class, attr_name, attr_value)\n",
    "\n",
    "        return new_class\n",
    "    \n",
    "    @classmethod\n",
    "    def _check_primary(cls, namespace=None):\n",
    "        if namespace is None:\n",
    "            return None\n",
    "        \n",
    "        primary_dict = {name: value for name, value in namespace.items() if (value.is_primary and value.name != '_id')}\n",
    "        if len(primary_dict) > 1:\n",
    "            raise AttributeError(\n",
    "                'Model has to have only one primary_key field'\n",
    "            )\n",
    "        elif len(primary_dict) == 1:\n",
    "            namespace.pop('id')\n",
    "            return namespace\n",
    "\n",
    "        return namespace\n",
    "    \n",
    "    @classmethod\n",
    "    def _set_manager(cls, namespace=None):\n",
    "        if namespace is None:\n",
    "            return None\n",
    "        \n",
    "        managers = {name: value for name, value in namespace.items() if isinstance(value, Manager)}\n",
    "        if len(managers) == 0:\n",
    "            managers.update({'objects': Manager()})\n",
    "        if len(managers) > 1:\n",
    "            raise AttributeError(\n",
    "                'Table have to has only one Manager()'\n",
    "            )\n",
    "        return managers\n",
    "            \n",
    "        \n",
    "class Model(metaclass=MetaModel):\n",
    "    \n",
    "    class Meta:\n",
    "        table_name = 'Model'\n",
    "        fields = {'id'}\n",
    "    \n",
    "    id = AutoField('id',primary_key=True)\n",
    "    objects = Manager()\n",
    "    \n",
    "    def __init__(self, **kwargs):\n",
    "        \n",
    "        for attr_name, attr_value in kwargs.items():\n",
    "            if attr_name in self.__class__.__dict__['Meta'].__dict__['fields']:\n",
    "                setattr(self, attr_name, attr_value)\n",
    "                \n",
    "    def _get_primary_name_value(self):\n",
    "        for name, value in self.__class__.__dict__.items():\n",
    "            if isinstance(value, Field):\n",
    "                if value.is_primary:\n",
    "                    return name, getattr(self, name)\n",
    "        raise RuntimeError('Model has no primary key!')\n",
    "                \n",
    "    def save(self):\n",
    "        db = mysql.connect(host='localhost', user='root',\n",
    "                           password='lumen23291633', db= 'my_orm')\n",
    "        cursor = db.cursor()\n",
    "        change_boolean = lambda x: int(x) if isinstance(x, bool) else x  \n",
    "        add_ = lambda x : '\"' + x + '\"' if (isinstance(x, str)) else x\n",
    "        types = {IntField: 'INT(10)', FloatField: 'FLOAT(53,8)',\n",
    "                 CharField: 'CHAR(255)', BoolField: 'BOOLEAN', AutoField: 'INT(10)'}\n",
    "        is_req = {False: '', True: 'NOT NULL', None: ''}\n",
    "        is_prim = {False: '', True: 'PRIMARY KEY', None: ''}\n",
    "        table_name = self.__class__.__dict__['Meta'].__dict__['table_name']\n",
    "        \n",
    "        #checking\n",
    "        name, value = self._get_primary_name_value()\n",
    "        print(name, value)\n",
    "        if value is None:\n",
    "            raise RuntimeError('Primary key must be not None')\n",
    "        if (cursor.execute('SELECT * FROM {0} WHERE {1}={2}'.format(table_name,name,value))):\n",
    "            update_query = 'UPDATE {0} SET {1} WHERE {2}'\n",
    "            attr_list = [str(attr_name) + '=' + str(add_(change_boolean(getattr(self,attr_name)))) for attr_name, attr_value in self.__class__.__dict__.items() if isinstance(attr_value, Field) and not attr_value.is_primary]\n",
    "            attr_list = ','.join(attr_list)\n",
    "            update_query = update_query.format(\n",
    "                table_name,\n",
    "                attr_list,\n",
    "                '{0}={1}'.format(name, value)\n",
    "            )\n",
    "            print(update_query)\n",
    "            cursor.execute(update_query)\n",
    "            db.commit()\n",
    "            db.close()\n",
    "            gc.collect()\n",
    "            return\n",
    "        \n",
    "        \n",
    "        string_list = list()\n",
    "        value_list = list()\n",
    "        for field_name in self.__class__.__dict__['Meta'].__dict__['fields']:\n",
    "            value_list.append(getattr(self, field_name))\n",
    "            string_list.append(\n",
    "                '`{0}` {1} {2} {3}'.format(\n",
    "                    field_name, \n",
    "                    types[type(self.__class__.__dict__[field_name])],\n",
    "                    is_req[self.__class__.__dict__[field_name].is_required],\n",
    "                    is_prim[self.__class__.__dict__[field_name].is_primary],\n",
    "                )\n",
    "            )\n",
    "        string_list = ','.join(string_list)\n",
    "        cursor.execute(\n",
    "            'CREATE TABLE IF NOT EXISTS `{0}` ({1})'.format(\n",
    "                getattr(self,'Meta').__dict__['table_name'],\n",
    "                string_list\n",
    "            )\n",
    "        )\n",
    "        \n",
    "        value_list = [str(add_(change_boolean(e))) for e in value_list]\n",
    "        value_list = ','.join(value_list)\n",
    "        query_insert = \"\"\"INSERT INTO {0} VALUES ({1})\"\"\".format(\n",
    "            self.__class__.__dict__['Meta'].__dict__['table_name'],\n",
    "            value_list\n",
    "        )\n",
    "        cursor.execute(query_insert)\n",
    "        db.commit()\n",
    "        db.close()\n",
    "        gc.collect()"
   ]
  },
  {
   "cell_type": "code",
   "execution_count": 12,
   "metadata": {},
   "outputs": [
    {
     "name": "stdout",
     "output_type": "stream",
     "text": [
      "id 0\n",
      "UPDATE Stuff SET Post=-1,TelNumber=322188,Name=\"Alan\",Sex=0,Money=630.0 WHERE id=0\n",
      "id 0\n",
      "UPDATE Stuff SET Post=-1,TelNumber=232916,Name=\"Alan\",Sex=0,Money=630.0 WHERE id=0\n"
     ]
    }
   ],
   "source": [
    "class User(Model):\n",
    "    \n",
    "    TelNumber = IntField('TelNumber',required=True, default=2)\n",
    "    Name =      CharField('Name',required=True, default='fdf')\n",
    "    Sex =       BoolField('Sex',required=True, default=True)\n",
    "    Money  =    FloatField('Money',required=False, default=0.0)\n",
    "    \n",
    "    def __init__(self, **kwarg):\n",
    "        super().__init__(**kwarg)\n",
    "    \n",
    "    def update_money(self, value):\n",
    "        self.Money = value\n",
    "\n",
    "class Stuff(User):\n",
    "    Post = IntField(required=True, default = -1)\n",
    "    \n",
    "a = Stuff.objects.create(id=0,TelNumber=322188, Name='Alan', Sex=False, Money=630.0)\n",
    "a.save()\n",
    "a.TelNumber = 232916\n",
    "a.save()"
   ]
  },
  {
   "cell_type": "markdown",
   "metadata": {},
   "source": []
  },
  {
   "cell_type": "code",
   "execution_count": 335,
   "metadata": {},
   "outputs": [],
   "source": [
    "class A():\n",
    "    a = 0\n",
    "    b = \"\"\n",
    "    c = True\n",
    "    \n",
    "    def __init__(self, a, b, c):\n",
    "        print(\"Called fron {}\".format(self))\n",
    "        self.a = a\n",
    "        self.b = b\n",
    "        self.c = c\n",
    "        \n",
    "    def update_a(self, a):\n",
    "        print(\"Called fron {}\".format(self))\n",
    "        self.a = a\n",
    "    \n",
    "    def update_b(self, b):\n",
    "        print(\"Called fron {}\".format(self))\n",
    "        self.b = b\n",
    "        \n",
    "    def update_c(self, c):\n",
    "        print(\"Called fron {}\".format(self))\n",
    "        self.c = c\n",
    "        \n",
    "class MetaClass(type):\n",
    "    def __new__(mcs, name, bases, attr):\n",
    "        meta = attr.get('Meta')\n",
    "        print(attr)\n",
    "        if meta is not None:\n",
    "            print(meta)\n",
    "            print(hasattr(attr['Meta'], 'table_name'))\n",
    "        return super().__new__(mcs, name, bases, attr)\n",
    "        \n",
    "class B(A):\n",
    "    \n",
    "    class Meta:\n",
    "        table_name = 'B'\n",
    "        fields = ('d')\n",
    "        \n",
    "    a = 'a'\n",
    "    \n",
    "    def __init__(self, a, b, c, d):\n",
    "        print(\"Called fron {}\".format(self))\n",
    "        self.a = d\n",
    "        super().__init__(a, b, c)\n",
    "        \n",
    "    def lel(self):\n",
    "        return 1\n",
    "    \n",
    "    @property\n",
    "    def ex(self):\n",
    "        return self.a\n",
    "        \n",
    "        "
   ]
  },
  {
   "cell_type": "code",
   "execution_count": 43,
   "metadata": {},
   "outputs": [
    {
     "name": "stdout",
     "output_type": "stream",
     "text": [
      "Called fron <__main__.B object at 0x7f8b1e5c5eb8>\n",
      "Called fron <__main__.B object at 0x7f8b1e5c5eb8>\n"
     ]
    },
    {
     "data": {
      "text/plain": [
       "1"
      ]
     },
     "execution_count": 43,
     "metadata": {},
     "output_type": "execute_result"
    }
   ],
   "source": [
    "b = B(1,2,3,4)\n",
    "b.ex"
   ]
  },
  {
   "cell_type": "code",
   "execution_count": 82,
   "metadata": {},
   "outputs": [
    {
     "name": "stdout",
     "output_type": "stream",
     "text": [
      "Called fron <__main__.B object at 0x7ff93c273588>\n",
      "Called fron <__main__.B object at 0x7ff93c273588>\n"
     ]
    },
    {
     "data": {
      "text/plain": [
       "'B'"
      ]
     },
     "execution_count": 82,
     "metadata": {},
     "output_type": "execute_result"
    }
   ],
   "source": [
    "B(1,2,3,4).__class__.__dict__['Meta'].__dict__['table_name']"
   ]
  },
  {
   "cell_type": "code",
   "execution_count": 88,
   "metadata": {},
   "outputs": [
    {
     "data": {
      "text/plain": [
       "{'a', 'b'}"
      ]
     },
     "execution_count": 88,
     "metadata": {},
     "output_type": "execute_result"
    }
   ],
   "source": [
    "a= {'a': 1, 'b' : 2}\n",
    "set(a.keys())"
   ]
  },
  {
   "cell_type": "code",
   "execution_count": 86,
   "metadata": {},
   "outputs": [
    {
     "name": "stdout",
     "output_type": "stream",
     "text": [
      "Called fron <__main__.B object at 0x7ff93c2210b8>\n",
      "Called fron <__main__.B object at 0x7ff93c2210b8>\n"
     ]
    },
    {
     "data": {
      "text/plain": [
       "True"
      ]
     },
     "execution_count": 86,
     "metadata": {},
     "output_type": "execute_result"
    }
   ],
   "source": [
    "a = B(1,2,3,4)\n",
    "isinstance(B.mro()[0], MetaClass)"
   ]
  },
  {
   "cell_type": "code",
   "execution_count": 136,
   "metadata": {},
   "outputs": [
    {
     "data": {
      "text/plain": [
       "-2.23e-308"
      ]
     },
     "execution_count": 136,
     "metadata": {},
     "output_type": "execute_result"
    }
   ],
   "source": [
    "-2.23e-308\n",
    "        "
   ]
  },
  {
   "cell_type": "code",
   "execution_count": 15,
   "metadata": {},
   "outputs": [
    {
     "name": "stdout",
     "output_type": "stream",
     "text": [
      "2.7.15 |Anaconda, Inc.| (default, Dec 14 2018, 19:04:19) \n",
      "[GCC 7.3.0]\n"
     ]
    }
   ],
   "source": [
    "import sys\n",
    "print(sys.version)"
   ]
  },
  {
   "cell_type": "code",
   "execution_count": 14,
   "metadata": {},
   "outputs": [
    {
     "data": {
      "text/plain": [
       "['__add__',\n",
       " '__class__',\n",
       " '__contains__',\n",
       " '__delattr__',\n",
       " '__delitem__',\n",
       " '__dir__',\n",
       " '__doc__',\n",
       " '__eq__',\n",
       " '__format__',\n",
       " '__ge__',\n",
       " '__getattribute__',\n",
       " '__getitem__',\n",
       " '__gt__',\n",
       " '__hash__',\n",
       " '__iadd__',\n",
       " '__imul__',\n",
       " '__init__',\n",
       " '__init_subclass__',\n",
       " '__iter__',\n",
       " '__le__',\n",
       " '__len__',\n",
       " '__lt__',\n",
       " '__mul__',\n",
       " '__ne__',\n",
       " '__new__',\n",
       " '__reduce__',\n",
       " '__reduce_ex__',\n",
       " '__repr__',\n",
       " '__reversed__',\n",
       " '__rmul__',\n",
       " '__setattr__',\n",
       " '__setitem__',\n",
       " '__sizeof__',\n",
       " '__str__',\n",
       " '__subclasshook__',\n",
       " 'append',\n",
       " 'clear',\n",
       " 'copy',\n",
       " 'count',\n",
       " 'extend',\n",
       " 'index',\n",
       " 'insert',\n",
       " 'pop',\n",
       " 'remove',\n",
       " 'reverse',\n",
       " 'sort']"
      ]
     },
     "execution_count": 14,
     "metadata": {},
     "output_type": "execute_result"
    }
   ],
   "source": [
    "class A:\n",
    "    pass\n",
    "        \n",
    "a = [A(), A(), A()]\n",
    "dir(a.__class__)"
   ]
  },
  {
   "cell_type": "code",
   "execution_count": 63,
   "metadata": {},
   "outputs": [
    {
     "data": {
      "text/plain": [
       "2"
      ]
     },
     "execution_count": 63,
     "metadata": {},
     "output_type": "execute_result"
    }
   ],
   "source": [
    "len({1: 'sd', 2: 'da'})"
   ]
  },
  {
   "cell_type": "code",
   "execution_count": 273,
   "metadata": {},
   "outputs": [
    {
     "data": {
      "text/plain": [
       "True"
      ]
     },
     "execution_count": 273,
     "metadata": {},
     "output_type": "execute_result"
    }
   ],
   "source": [
    "a = dict()\n",
    "a"
   ]
  },
  {
   "cell_type": "code",
   "execution_count": 359,
   "metadata": {},
   "outputs": [
    {
     "data": {
      "text/plain": [
       "2147483648"
      ]
     },
     "execution_count": 359,
     "metadata": {},
     "output_type": "execute_result"
    }
   ],
   "source": [
    "2**31"
   ]
  },
  {
   "cell_type": "code",
   "execution_count": 20,
   "metadata": {},
   "outputs": [
    {
     "data": {
      "text/plain": [
       "'\"adas\"'"
      ]
     },
     "execution_count": 20,
     "metadata": {},
     "output_type": "execute_result"
    }
   ],
   "source": [
    "s = 'adas'\n",
    "'\"' + s +'\"'"
   ]
  },
  {
   "cell_type": "code",
   "execution_count": 27,
   "metadata": {},
   "outputs": [
    {
     "data": {
      "text/plain": [
       "'{0}'"
      ]
     },
     "execution_count": 27,
     "metadata": {},
     "output_type": "execute_result"
    }
   ],
   "source": [
    "a= \"{0}\"\n",
    "a"
   ]
  },
  {
   "cell_type": "code",
   "execution_count": 58,
   "metadata": {},
   "outputs": [
    {
     "data": {
      "text/plain": [
       "'SELECT * FROM WHERE id=1'"
      ]
     },
     "execution_count": 58,
     "metadata": {},
     "output_type": "execute_result"
    }
   ],
   "source": [
    "'SELECT * FROM WHERE {0}={1}'.format('id', 1)"
   ]
  },
  {
   "cell_type": "code",
   "execution_count": null,
   "metadata": {},
   "outputs": [],
   "source": []
  }
 ],
 "metadata": {
  "kernelspec": {
   "display_name": "Python 3",
   "language": "python",
   "name": "python3"
  },
  "language_info": {
   "codemirror_mode": {
    "name": "ipython",
    "version": 3
   },
   "file_extension": ".py",
   "mimetype": "text/x-python",
   "name": "python",
   "nbconvert_exporter": "python",
   "pygments_lexer": "ipython3",
   "version": "3.7.2"
  }
 },
 "nbformat": 4,
 "nbformat_minor": 2
}
